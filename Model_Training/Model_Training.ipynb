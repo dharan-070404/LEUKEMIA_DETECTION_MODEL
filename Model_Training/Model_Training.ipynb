{
  "cells": [
    {
      "cell_type": "code",
      "execution_count": null,
      "metadata": {
        "colab": {
          "base_uri": "https://localhost:8080/"
        },
        "id": "X5MbPNS8th2u",
        "outputId": "199d9790-b843-4949-f292-3fbb40f2b814"
      },
      "outputs": [
        {
          "name": "stdout",
          "output_type": "stream",
          "text": [
            "Mounted at /content/drive\n"
          ]
        }
      ],
      "source": [
        "from google.colab import drive\n",
        "drive.mount('/content/drive')"
      ]
    },
    {
      "cell_type": "markdown",
      "metadata": {
        "id": "fHRS-up1tTw7"
      },
      "source": [
        "## LIBRARIES"
      ]
    },
    {
      "cell_type": "code",
      "execution_count": null,
      "metadata": {
        "id": "M5y0qkjFGyhe"
      },
      "outputs": [],
      "source": [
        "import torch\n",
        "import torch.nn as nn\n",
        "import torch.optim as optim\n",
        "import torch.nn.functional as F\n",
        "import torch.backends.cudnn as cudnn\n",
        "\n",
        "import torchvision\n",
        "import torchvision.transforms as transforms\n",
        "\n",
        "import os\n",
        "import torch\n",
        "import torchvision\n",
        "from torchvision.datasets import ImageFolder\n",
        "from torch.utils.data import DataLoader"
      ]
    },
    {
      "cell_type": "code",
      "execution_count": null,
      "metadata": {
        "id": "IlXnuuxZI_9h"
      },
      "outputs": [],
      "source": [
        "import argparse"
      ]
    },
    {
      "cell_type": "code",
      "execution_count": null,
      "metadata": {
        "id": "iBhW1aVaHE8D"
      },
      "outputs": [],
      "source": [
        "device = 'gpu' if torch.cuda.is_available() else 'cuda'\n",
        "best_acc = 0  \n",
        "start_epoch = 0  "
      ]
    },
    {
      "cell_type": "markdown",
      "metadata": {
        "id": "_TnJbONFtTxD"
      },
      "source": [
        "## DATA LOADING AND PREPARATION"
      ]
    },
    {
      "cell_type": "code",
      "execution_count": null,
      "metadata": {
        "colab": {
          "base_uri": "https://localhost:8080/"
        },
        "id": "1iA1jOe5ytUz",
        "outputId": "a18d217f-addc-4244-b434-cbe9a7ad2dd9"
      },
      "outputs": [
        {
          "name": "stdout",
          "output_type": "stream",
          "text": [
            "==> Preparing data..\n"
          ]
        }
      ],
      "source": [
        "print('==> Preparing data..')\n",
        "\n",
        "# Define transformations\n",
        "transform_train = transforms.Compose([\n",
        "    transforms.Resize((24,24)),  # Resize to a smaller size\n",
        "    transforms.RandomCrop(24, padding=4),\n",
        "    transforms.ToTensor(),\n",
        "])\n",
        "\n",
        "\n",
        "# Load your dataset\n",
        "trainset = ImageFolder(root='/content/drive/MyDrive/Python_Training_Dataset/blood_resnext/train', transform=transform_train)\n",
        "trainloader = DataLoader(trainset, batch_size=32, shuffle=True, num_workers=2)\n",
        "\n",
        "testset = ImageFolder(root='/content/drive/MyDrive/Python_Training_Dataset/blood_resnext/test', transform=transform_test)\n",
        "testloader = DataLoader(testset, batch_size=25, shuffle=False, num_workers=2)\n",
        "\n",
        "# Define class names (modify based on your classes)\n",
        "classes = ('Benign', 'Pro','Pre','Early')"
      ]
    },
    {
      "cell_type": "markdown",
      "metadata": {
        "id": "Qf319byatTxF"
      },
      "source": [
        "## RESNEXT"
      ]
    },
    {
      "cell_type": "code",
      "execution_count": null,
      "metadata": {
        "id": "MwWih7CTHgiS"
      },
      "outputs": [],
      "source": [
        "import torch\n",
        "import torch.nn as nn\n",
        "import torch.nn.functional as F\n",
        "\n",
        "\n",
        "class Block(nn.Module):\n",
        "    '''Grouped convolution block.'''\n",
        "    expansion = 2\n",
        "\n",
        "    def __init__(self, in_planes, cardinality=32, bottleneck_width=4, stride=1):\n",
        "        super(Block, self).__init__()\n",
        "        group_width = cardinality * bottleneck_width\n",
        "        self.conv1 = nn.Conv2d(in_planes, group_width, kernel_size=1, bias=False)\n",
        "        self.bn1 = nn.BatchNorm2d(group_width)\n",
        "        self.conv2 = nn.Conv2d(group_width, group_width, kernel_size=3, stride=stride, padding=1, groups=cardinality, bias=False)\n",
        "        self.bn2 = nn.BatchNorm2d(group_width)\n",
        "\n",
        "        self.shortcut = nn.Sequential()\n",
        "        if stride != 1 or in_planes != self.expansion*group_width:\n",
        "            self.shortcut = nn.Sequential(\n",
        "                nn.Conv2d(in_planes, self.expansion*group_width, kernel_size=1, stride=stride, bias=False),\n",
        "                nn.BatchNorm2d(self.expansion*group_width)\n",
        "            )\n",
        "\n",
        "    def forward(self, x):\n",
        "        out = F.relu(self.bn1(self.conv1(x)))\n",
        "        out = F.relu(self.bn2(self.conv2(out)))\n",
        "        out = self.bn3(self.conv3(out))\n",
        "        out += self.shortcut(x)\n",
        "        out = F.relu(out)\n",
        "        return out\n",
        "\n",
        "\n",
        "class ResNeXt(nn.Module):\n",
        "    def __init__(self, num_blocks, cardinality, bottleneck_width, num_classes=4):\n",
        "        super(ResNeXt, self).__init__()\n",
        "        self.cardinality = cardinality\n",
        "        self.bottleneck_width = bottleneck_width\n",
        "        self.in_planes = 64\n",
        "\n",
        "        self.conv1 = nn.Conv2d(3, 64, kernel_size=1, bias=False)\n",
        "        self.bn1 = nn.BatchNorm2d(64)\n",
        "        self.layer1 = self._make_layer(num_blocks[0], 1)\n",
        "        self.layer2 = self._make_layer(num_blocks[1], 2)\n",
        "        self.layer3 = self._make_layer(num_blocks[2], 2)\n",
        "        self.layer4 = self._make_layer(num_blocks[3], 2)\n",
        "        self.linear = nn.Linear(cardinality*bottleneck_width*8, num_classes)\n",
        "\n",
        "    def forward(self, x):\n",
        "        out = F.relu(self.bn1(self.conv1(x)))\n",
        "        out = self.layer1(out)\n",
        "        out = self.layer2(out)\n",
        "        out = self.layer3(out)\n",
        "        out = self.layer4(out)\n",
        "        out = F.avg_pool2d(out, 6)\n",
        "        out = out.view(out.size(0), -1)\n",
        "        out = self.linear(out)\n",
        "        return out"
      ]
    },
    {
      "cell_type": "code",
      "execution_count": null,
      "metadata": {
        "id": "Kh5ZY6ClHRy3"
      },
      "outputs": [],
      "source": [
        "def ResNeXt29_2x64d():\n",
        "    return ResNeXt(num_blocks=[3,3,3], cardinality=32, bottleneck_width=4)"
      ]
    },
    {
      "cell_type": "code",
      "execution_count": null,
      "metadata": {
        "id": "lwUUd6iTHFVg"
      },
      "outputs": [],
      "source": [
        "net = ResNeXt29_2x64d()"
      ]
    },
    {
      "cell_type": "markdown",
      "metadata": {
        "id": "7v-rT_DVtTxI"
      },
      "source": [
        "### SELECTING AN OPTIMIZER"
      ]
    },
    {
      "cell_type": "code",
      "execution_count": null,
      "metadata": {
        "id": "OPdtpJHjIqMN"
      },
      "outputs": [],
      "source": [
        "criterion = nn.CrossEntropyLoss()\n",
        "optimizer = optim.SGD(net.parameters(), lr=0.001,\n",
        "                      momentum=0.9, weight_decay=5e-4)"
      ]
    },
    {
      "cell_type": "code",
      "execution_count": null,
      "metadata": {
        "id": "X4Oi9ivSPBBA"
      },
      "outputs": [],
      "source": [
        "net = net.to(device)\n",
        "if device == 'gpu':\n",
        "    net = torch.nn.DataParallel(net)\n",
        "    gpunn.benchmark = True"
      ]
    },
    {
      "cell_type": "markdown",
      "metadata": {
        "id": "okXsjhWItTxJ"
      },
      "source": [
        "## TRAINING"
      ]
    },
    {
      "cell_type": "code",
      "execution_count": null,
      "metadata": {
        "id": "Q_dYt4evHgn0"
      },
      "outputs": [],
      "source": [
        "def train(epoch):\n",
        "    print('\\nEpoch: %d' % epoch)\n",
        "    net.train()\n",
        "    train_loss = 0\n",
        "    correct = 0\n",
        "    total = 0\n",
        "    running_loss = 0\n",
        "    running_acc = 0\n",
        "    for batch_idx, (inputs, targets) in enumerate(trainloader):\n",
        "        inputs, targets = inputs.to(device), targets.to(device)\n",
        "        optimizer.zero_grad()\n",
        "        outputs = net(inputs)\n",
        "\n",
        "\n",
        "        train_loss += loss.item()\n",
        "        _, predicted = outputs.max(1)\n",
        "        total += targets.size(0)\n",
        "        correct += predicted.eq(targets).sum().item()\n",
        "                # print statistics\n",
        "        running_loss += loss.item() * inputs.size(0)\n",
        "    print(\"Training loss:\", running_loss/total)\n",
        "    print(\"Training  accuracy is :\", 100.*running_acc/total)"
      ]
    },
    {
      "cell_type": "code",
      "execution_count": null,
      "metadata": {
        "id": "Yo9cDWGZHgvb"
      },
      "outputs": [],
      "source": [
        "def test(epoch):\n",
        "    global best_acc\n",
        "    net.eval()\n",
        "    test_loss = 0\n",
        "    correct = 0\n",
        "    total = 0\n",
        "        acc = 100.*correct/total\n",
        "        print('The test accuracy is :', acc, file=open('log_aug_adam.txt', 'a'))\n",
        "        print('The test accuracy is :', acc)\n",
        "\n",
        "        if acc > best_acc:\n",
        "            print(\"Saving..\")\n",
        "            state = {\n",
        "                'net': net.module.state_dict() if isinstance(net, torch.nn.DataParallel) else net.state_dict(),\n",
        "                'acc': acc,\n",
        "                'epoch': epoch,\n",
        "            }\n",
        "            if not os.path.isdir('checkpoint'):\n",
        "                os.mkdir('checkpoint')\n",
        "            torch.save(state, '/content/drive/MyDrive/Resnext_model/checkpoint/ckpts1.pth')\n",
        "            best_acc = acc\n"
      ]
    },
    {
      "cell_type": "code",
      "execution_count": 1,
      "metadata": {
        "colab": {
          "base_uri": "https://localhost:8080/"
        },
        "id": "vSus9VMMHR1z",
        "outputId": "29bfaba4-4a3c-4b92-b67f-fdc3a4345a30"
      },
      "outputs": [
        {
          "ename": "NameError",
          "evalue": "name 'train' is not defined",
          "output_type": "error",
          "traceback": [
            "\u001b[1;31m---------------------------------------------------------------------------\u001b[0m",
            "\u001b[1;31mNameError\u001b[0m                                 Traceback (most recent call last)",
            "Cell \u001b[1;32mIn[1], line 2\u001b[0m\n\u001b[0;32m      1\u001b[0m \u001b[38;5;28;01mfor\u001b[39;00m epoch \u001b[38;5;129;01min\u001b[39;00m \u001b[38;5;28mrange\u001b[39m(\u001b[38;5;241m0\u001b[39m,\u001b[38;5;241m100\u001b[39m):\n\u001b[1;32m----> 2\u001b[0m     \u001b[43mtrain\u001b[49m(epoch)\n\u001b[0;32m      3\u001b[0m     test(epoch)\n",
            "\u001b[1;31mNameError\u001b[0m: name 'train' is not defined"
          ]
        }
      ],
      "source": [
        "for epoch in range(0,100):\n",
        "    train(epoch)\n",
        "    test(epoch)"
      ]
    }
  ],
  "metadata": {
    "colab": {
      "provenance": []
    },
    "kernelspec": {
      "display_name": "Python 3",
      "name": "python3"
    },
    "language_info": {
      "codemirror_mode": {
        "name": "ipython",
        "version": 3
      },
      "file_extension": ".py",
      "mimetype": "text/x-python",
      "name": "python",
      "nbconvert_exporter": "python",
      "pygments_lexer": "ipython3",
      "version": "3.12.2"
    }
  },
  "nbformat": 4,
  "nbformat_minor": 0
}
